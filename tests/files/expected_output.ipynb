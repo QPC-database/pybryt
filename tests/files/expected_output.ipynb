{
 "cells": [
  {
   "cell_type": "code",
   "execution_count": 1,
   "metadata": {},
   "outputs": [],
   "source": [
    "import sys\n",
    "from pybryt.execution import create_collector\n",
    "observed_M80O2R, cir = create_collector(addl_filenames=[])\n",
    "sys.settrace(cir)\n"
   ]
  },
  {
   "cell_type": "code",
   "execution_count": 2,
   "metadata": {},
   "outputs": [],
   "source": [
    "\n",
    "import numpy as np\n",
    "import pandas as pd\n",
    "import matplotlib.pyplot as plt\n",
    "var_HBRPOI = get_ipython()\n",
    "var_G8F1CB = var_HBRPOI.run_line_magic('matplotlib', 'inline')\n",
    "var_G8F1CB\n"
   ]
  },
  {
   "cell_type": "code",
   "execution_count": 3,
   "metadata": {},
   "outputs": [],
   "source": [
    "\n",
    "var_FNO6B9 = np.random.seed(42)\n",
    "var_FNO6B9\n",
    "x = np.random.uniform(size=1000)\n",
    "y = np.random.normal(size=1000)\n"
   ]
  },
  {
   "cell_type": "code",
   "execution_count": 4,
   "metadata": {},
   "outputs": [],
   "source": [
    "\n",
    "df = pd.DataFrame({'x': x, 'y': y})\n"
   ]
  },
  {
   "cell_type": "code",
   "execution_count": 5,
   "metadata": {},
   "outputs": [],
   "source": [
    "sys.settrace(None)\n",
    "import dill\n",
    "from pybryt.utils import filter_pickleable_list\n",
    "filter_pickleable_list(observed_M80O2R)\n",
    "with open(\"/var/folders/8k/273cyr7n3n3dn6kvkz4h3w440000gn/T/tmpkjx_9gfh\", \"wb+\") as f:\n",
    "    dill.dump(observed_M80O2R, f)\n"
   ]
  }
 ],
 "metadata": {
  "language_info": {
   "codemirror_mode": {
    "name": "ipython",
    "version": 3
   },
   "file_extension": ".py",
   "mimetype": "text/x-python",
   "name": "python",
   "nbconvert_exporter": "python",
   "pygments_lexer": "ipython3",
   "version": "3.7.3"
  }
 },
 "nbformat": 4,
 "nbformat_minor": 4
}
