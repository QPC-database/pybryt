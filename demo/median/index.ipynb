{
 "cells": [
  {
   "cell_type": "markdown",
   "metadata": {},
   "source": [
    "# Median Runner\n",
    "\n",
    "This notebook demonstrates how to create a grading workflow using PyBryt."
   ]
  },
  {
   "cell_type": "code",
   "execution_count": 1,
   "metadata": {},
   "outputs": [],
   "source": [
    "import pybryt"
   ]
  },
  {
   "cell_type": "markdown",
   "metadata": {},
   "source": [
    "This demo has the following directory structure. This notebook, `index.ipynb`, runs PyBryt, `median.ipynb` is the assignment reference implementation, and `submissions` contains notebooks with student code in them."
   ]
  },
  {
   "cell_type": "code",
   "execution_count": 10,
   "metadata": {},
   "outputs": [
    {
     "name": "stdout",
     "output_type": "stream",
     "text": [
      ".\n",
      "├── README.md\n",
      "├── index.ipynb\n",
      "├── median-ref.pkl\n",
      "├── median.ipynb\n",
      "└── submissions\n",
      "    ├── subm01.ipynb\n",
      "    ├── subm02.ipynb\n",
      "    ├── subm03.ipynb\n",
      "    ├── subm04.ipynb\n",
      "    ├── subm05.ipynb\n",
      "    └── subm06.ipynb\n",
      "\n",
      "1 directory, 10 files\n"
     ]
    }
   ],
   "source": [
    "%%bash\n",
    "tree"
   ]
  },
  {
   "cell_type": "markdown",
   "metadata": {},
   "source": [
    "## Reference Implementations\n",
    "\n",
    "If you have marked up a reference implementation, like the one in [`median.ipynb`](median.ipynb), you can load this reference using `pybryt.ReferenceImplementation.compile`. Because references are relatively static and can take some time to execute, you can pickle the reference implementations to a file with `pybryt.ReferenceImplementation.dump`."
   ]
  },
  {
   "cell_type": "code",
   "execution_count": 18,
   "metadata": {},
   "outputs": [],
   "source": [
    "ref = pybryt.ReferenceImplementation.compile(\"median.ipynb\")\n",
    "ref.dump(\"median-ref.pkl\")"
   ]
  },
  {
   "cell_type": "markdown",
   "metadata": {},
   "source": [
    "To load a pickled reference implementation, use `pybryt.ReferenceImplementation.load`:"
   ]
  },
  {
   "cell_type": "code",
   "execution_count": 3,
   "metadata": {},
   "outputs": [
    {
     "data": {
      "text/plain": [
       "<pybryt.annotations.reference.ReferenceImplementation at 0x1149c3eb8>"
      ]
     },
     "execution_count": 3,
     "metadata": {},
     "output_type": "execute_result"
    }
   ],
   "source": [
    "ref = pybryt.ReferenceImplementation.load(\"median-ref.pkl\")\n",
    "ref"
   ]
  },
  {
   "cell_type": "markdown",
   "metadata": {},
   "source": [
    "## Assessing Submissions\n",
    "\n",
    "To use PyBryt for grading multiple submissions, you can build a reproducible grading pipeline for an arbitrary number of submissions. To grab the submission notebook paths, the cell below uses `glob.glob`."
   ]
  },
  {
   "cell_type": "code",
   "execution_count": 4,
   "metadata": {},
   "outputs": [
    {
     "data": {
      "text/plain": [
       "['submissions/subm01.ipynb',\n",
       " 'submissions/subm03.ipynb',\n",
       " 'submissions/subm05.ipynb',\n",
       " 'submissions/subm02.ipynb',\n",
       " 'submissions/subm04.ipynb',\n",
       " 'submissions/subm06.ipynb']"
      ]
     },
     "execution_count": 4,
     "metadata": {},
     "output_type": "execute_result"
    }
   ],
   "source": [
    "from glob import glob\n",
    "subms = glob(\"submissions/*.ipynb\")\n",
    "subms"
   ]
  },
  {
   "cell_type": "markdown",
   "metadata": {},
   "source": [
    "To use PyBryt to grade a student's submission, a `pybryt.StudentImplementation` must be created from that submission. The constructor takes the path to the notebook as its only positional argument. It is in this step that the student's code is executed, so this cell will need to be rerun whenever changes are made to the submission notebooks."
   ]
  },
  {
   "cell_type": "code",
   "execution_count": 11,
   "metadata": {},
   "outputs": [
    {
     "data": {
      "text/plain": [
       "[<pybryt.student.StudentImplementation at 0x114b26438>,\n",
       " <pybryt.student.StudentImplementation at 0x114afb6d8>,\n",
       " <pybryt.student.StudentImplementation at 0x114a24198>,\n",
       " <pybryt.student.StudentImplementation at 0x1149c3fd0>,\n",
       " <pybryt.student.StudentImplementation at 0x114b092e8>,\n",
       " <pybryt.student.StudentImplementation at 0x114b09940>]"
      ]
     },
     "execution_count": 11,
     "metadata": {},
     "output_type": "execute_result"
    }
   ],
   "source": [
    "student_impls = []\n",
    "for subm in subms:\n",
    "    student_impls.append(pybryt.StudentImplementation(subm))\n",
    "\n",
    "student_impls"
   ]
  },
  {
   "cell_type": "markdown",
   "metadata": {},
   "source": [
    "Once you have created the `pybryt.StudentImplementation` objects, use the `pybryt.StudentImplementation.check` method to run the check of a submission against a reference implementation. This method returns a single `pybryt.ReferenceResult` or a list of them, depending on the argument passed to `check`. In the cell below, the results are collected into a list."
   ]
  },
  {
   "cell_type": "code",
   "execution_count": 19,
   "metadata": {},
   "outputs": [
    {
     "data": {
      "text/plain": [
       "[ReferenceResult([\n",
       "   AnnotationResult(satisfied=True, annotation=pybryt.Value),\n",
       "   AnnotationResult(satisfied=True, annotation=pybryt.Value),\n",
       "   AnnotationResult(satisfied=True, annotation=pybryt.Value),\n",
       "   AnnotationResult(satisfied=True, annotation=pybryt.Value),\n",
       "   AnnotationResult(satisfied=True, annotation=pybryt.Value)\n",
       " ]),\n",
       " ReferenceResult([\n",
       "   AnnotationResult(satisfied=True, annotation=pybryt.Value),\n",
       "   AnnotationResult(satisfied=False, annotation=pybryt.Value),\n",
       "   AnnotationResult(satisfied=True, annotation=pybryt.Value),\n",
       "   AnnotationResult(satisfied=False, annotation=pybryt.Value),\n",
       "   AnnotationResult(satisfied=True, annotation=pybryt.Value)\n",
       " ]),\n",
       " ReferenceResult([\n",
       "   AnnotationResult(satisfied=False, annotation=pybryt.Value),\n",
       "   AnnotationResult(satisfied=False, annotation=pybryt.Value),\n",
       "   AnnotationResult(satisfied=False, annotation=pybryt.Value),\n",
       "   AnnotationResult(satisfied=False, annotation=pybryt.Value),\n",
       "   AnnotationResult(satisfied=True, annotation=pybryt.Value)\n",
       " ]),\n",
       " ReferenceResult([\n",
       "   AnnotationResult(satisfied=False, annotation=pybryt.Value),\n",
       "   AnnotationResult(satisfied=False, annotation=pybryt.Value),\n",
       "   AnnotationResult(satisfied=False, annotation=pybryt.Value),\n",
       "   AnnotationResult(satisfied=False, annotation=pybryt.Value),\n",
       "   AnnotationResult(satisfied=True, annotation=pybryt.Value)\n",
       " ]),\n",
       " ReferenceResult([\n",
       "   AnnotationResult(satisfied=False, annotation=pybryt.Value),\n",
       "   AnnotationResult(satisfied=False, annotation=pybryt.Value),\n",
       "   AnnotationResult(satisfied=False, annotation=pybryt.Value),\n",
       "   AnnotationResult(satisfied=False, annotation=pybryt.Value),\n",
       "   AnnotationResult(satisfied=True, annotation=pybryt.Value)\n",
       " ]),\n",
       " ReferenceResult([\n",
       "   AnnotationResult(satisfied=True, annotation=pybryt.Value),\n",
       "   AnnotationResult(satisfied=True, annotation=pybryt.Value),\n",
       "   AnnotationResult(satisfied=True, annotation=pybryt.Value),\n",
       "   AnnotationResult(satisfied=True, annotation=pybryt.Value),\n",
       "   AnnotationResult(satisfied=True, annotation=pybryt.Value)\n",
       " ])]"
      ]
     },
     "execution_count": 19,
     "metadata": {},
     "output_type": "execute_result"
    }
   ],
   "source": [
    "results = []\n",
    "for si in student_impls:\n",
    "    results.append(si.check(ref))\n",
    "\n",
    "results"
   ]
  },
  {
   "cell_type": "markdown",
   "metadata": {},
   "source": [
    "To view the results in a concise manner, the `pybryt.ReferenceResult` class has some helpful instance variables:"
   ]
  },
  {
   "cell_type": "code",
   "execution_count": 20,
   "metadata": {},
   "outputs": [
    {
     "name": "stdout",
     "output_type": "stream",
     "text": [
      "SUBMISSION: submissions/subm01.ipynb\n",
      "  SATISFIED: True\n",
      "  MESSAGES:\n",
      "    - SUCCESS: Sorted the sample correctly\n",
      "    - SUCCESS: Computed the size of the sample\n",
      "    - SUCCESS: Sorted the sample correctly\n",
      "    - SUCCESS: Computed the size of the sample\n",
      "    - computed the correct median\n",
      "\n",
      "\n",
      "SUBMISSION: submissions/subm03.ipynb\n",
      "  SATISFIED: False\n",
      "  MESSAGES:\n",
      "    - SUCCESS: Sorted the sample correctly\n",
      "    - ERROR: Did not capture the size of the set to determine if it is odd or even\n",
      "    - SUCCESS: Sorted the sample correctly\n",
      "    - ERROR: Did not capture the size of the set to determine if it is odd or even\n",
      "    - computed the correct median\n",
      "\n",
      "\n",
      "SUBMISSION: submissions/subm05.ipynb\n",
      "  SATISFIED: False\n",
      "  MESSAGES:\n",
      "    - ERROR: The sample was not sorted\n",
      "    - ERROR: Did not capture the size of the set to determine if it is odd or even\n",
      "    - ERROR: The sample was not sorted\n",
      "    - ERROR: Did not capture the size of the set to determine if it is odd or even\n",
      "    - computed the correct median\n",
      "\n",
      "\n",
      "SUBMISSION: submissions/subm02.ipynb\n",
      "  SATISFIED: False\n",
      "  MESSAGES:\n",
      "    - ERROR: The sample was not sorted\n",
      "    - ERROR: Did not capture the size of the set to determine if it is odd or even\n",
      "    - ERROR: The sample was not sorted\n",
      "    - ERROR: Did not capture the size of the set to determine if it is odd or even\n",
      "    - computed the correct median\n",
      "\n",
      "\n",
      "SUBMISSION: submissions/subm04.ipynb\n",
      "  SATISFIED: False\n",
      "  MESSAGES:\n",
      "    - ERROR: The sample was not sorted\n",
      "    - ERROR: Did not capture the size of the set to determine if it is odd or even\n",
      "    - ERROR: The sample was not sorted\n",
      "    - ERROR: Did not capture the size of the set to determine if it is odd or even\n",
      "    - computed the correct median\n",
      "\n",
      "\n",
      "SUBMISSION: submissions/subm06.ipynb\n",
      "  SATISFIED: True\n",
      "  MESSAGES:\n",
      "    - SUCCESS: Sorted the sample correctly\n",
      "    - SUCCESS: Computed the size of the sample\n",
      "    - SUCCESS: Sorted the sample correctly\n",
      "    - SUCCESS: Computed the size of the sample\n",
      "    - computed the correct median\n",
      "\n",
      "\n"
     ]
    }
   ],
   "source": [
    "from textwrap import indent\n",
    "for sp, res in zip(subms, results):\n",
    "    print(f\"SUBMISSION: {sp}\")\n",
    "\n",
    "    # res.messages is a list of messages returned by the reference during grading\n",
    "    messages = \"\\n\".join(res.messages) \n",
    "    \n",
    "    # res.correct is a boolean for whether the reference was satisfied\n",
    "    message = f\"SATISFIED: {res.correct}\\nMESSAGES:\\n{indent(messages, '  - ')}\"\n",
    "    \n",
    "    # some pretty-printing\n",
    "    print(indent(message, \"  \"))\n",
    "    print(\"\\n\")"
   ]
  },
  {
   "cell_type": "markdown",
   "metadata": {},
   "source": [
    " "
   ]
  }
 ],
 "metadata": {
  "@webio": {
   "lastCommId": null,
   "lastKernelId": null
  },
  "kernelspec": {
   "display_name": "Python 3",
   "language": "python",
   "name": "python3"
  },
  "language_info": {
   "codemirror_mode": {
    "name": "ipython",
    "version": 3
   },
   "file_extension": ".py",
   "mimetype": "text/x-python",
   "name": "python",
   "nbconvert_exporter": "python",
   "pygments_lexer": "ipython3",
   "version": "3.7.3"
  }
 },
 "nbformat": 4,
 "nbformat_minor": 4
}
